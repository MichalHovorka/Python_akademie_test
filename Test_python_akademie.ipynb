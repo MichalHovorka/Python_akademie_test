{
  "nbformat": 4,
  "nbformat_minor": 0,
  "metadata": {
    "colab": {
      "name": "Test_python_akademie.ipynb",
      "provenance": [],
      "authorship_tag": "ABX9TyMaF1oyMXKocLXub8HwWgfO",
      "include_colab_link": true
    },
    "kernelspec": {
      "name": "python3",
      "display_name": "Python 3"
    }
  },
  "cells": [
    {
      "cell_type": "markdown",
      "metadata": {
        "id": "view-in-github",
        "colab_type": "text"
      },
      "source": [
        "<a href=\"https://colab.research.google.com/github/MichalHovorka/Python_akademie_test/blob/main/Test_python_akademie.ipynb\" target=\"_parent\"><img src=\"https://colab.research.google.com/assets/colab-badge.svg\" alt=\"Open In Colab\"/></a>"
      ]
    },
    {
      "cell_type": "code",
      "metadata": {
        "colab": {
          "base_uri": "https://localhost:8080/"
        },
        "id": "p0E9x3BuQyUW",
        "outputId": "3159c634-40aa-4c59-afe4-614b1bed1624"
      },
      "source": [
        "# Naimportuj modul random\n",
        "import random\n",
        "\n",
        "# Vytvort list moznosti\n",
        "moznosti = ['kamen', 'nuzky', 'papir']\n",
        "\n",
        "# Vytvort promennou hrac\n",
        "hrac = input('Zadej jednu z možností (kamen, nuzky nebo papir: ')\n",
        "\n",
        "\n",
        "# Vytvort promennou pocitac\n",
        "pocitac = random.choice(moznosti)\n",
        "\n",
        "# Vytiskni volbu cloveka a pocitace\n",
        "print('Hráč zadal: ', hrac)\n",
        "print('Počítač zadal: ', pocitac)\n",
        "\n",
        "# Vytvor podminku, zda hrac zvolil neplatnou volbu\n",
        "if hrac not in moznosti:\n",
        "    print('Neplatná volba')\n",
        "elif hrac == (moznosti[0]) and pocitac == (moznosti[0]):\n",
        "    print('Nerozhodně')\n",
        "elif hrac == (moznosti[1]) and pocitac == (moznosti[1]):\n",
        "    print('Nerozhodně')\n",
        "elif hrac == (moznosti[2]) and pocitac == (moznosti[2]):\n",
        "    print('Nerozhodně')\n",
        "elif hrac == (moznosti[0]) and pocitac == (moznosti[1]):\n",
        "    print('Vyhrál jsi!')\n",
        "elif hrac == (moznosti[0]) and pocitac == (moznosti[2]):\n",
        "    print('Prohrál jsi!')\n",
        "elif hrac == (moznosti[1]) and pocitac == (moznosti[0]):\n",
        "    print('Prohrál jsi!')\n",
        "elif hrac == (moznosti[1]) and pocitac == (moznosti[2]):\n",
        "    print('Vyhrál jsi!')\n",
        "elif hrac == (moznosti[2]) and pocitac == (moznosti[1]):\n",
        "    print('Prohrál jsi!')\n",
        "elif hrac == (moznosti[2]) and pocitac == (moznosti[0]):\n",
        "    print('Vyhrál jsi!')\n",
        "\n",
        "# Pokud je volba v poradku, muzeme provest zbytek programu\n",
        "\n",
        "\n",
        "# Podimky zahrnujici ruzne kombinace voleb hrace a pocitace a tisk vysledku"
      ],
      "execution_count": 1,
      "outputs": [
        {
          "output_type": "stream",
          "text": [
            "Zadej jednu z možností (kamen, nuzky nebo papir: papir\n",
            "Hráč zadal:  papir\n",
            "Počítač zadal:  nuzky\n",
            "Prohrál jsi!\n"
          ],
          "name": "stdout"
        }
      ]
    }
  ]
}