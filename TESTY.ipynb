{
  "nbformat": 4,
  "nbformat_minor": 0,
  "metadata": {
    "colab": {
      "name": "TESTY.ipynb",
      "provenance": [],
      "authorship_tag": "ABX9TyNfZ8ZiGeg3YR6oE22WQC0T",
      "include_colab_link": true
    },
    "kernelspec": {
      "name": "python3",
      "display_name": "Python 3"
    }
  },
  "cells": [
    {
      "cell_type": "markdown",
      "metadata": {
        "id": "view-in-github",
        "colab_type": "text"
      },
      "source": [
        "<a href=\"https://colab.research.google.com/github/MichalHovorka/Python_akademie_test/blob/main/TESTY.ipynb\" target=\"_parent\"><img src=\"https://colab.research.google.com/assets/colab-badge.svg\" alt=\"Open In Colab\"/></a>"
      ]
    },
    {
      "cell_type": "code",
      "metadata": {
        "colab": {
          "base_uri": "https://localhost:8080/",
          "height": 181
        },
        "id": "sjoV_s3Npo_T",
        "outputId": "a7c3c2aa-0350-4ad1-cf93-73fdf29e1ea5"
      },
      "source": [
        "# print count\n",
        "print('The count of i is:', count)\n"
      ],
      "execution_count": 1,
      "outputs": [
        {
          "output_type": "error",
          "ename": "NameError",
          "evalue": "ignored",
          "traceback": [
            "\u001b[0;31m---------------------------------------------------------------------------\u001b[0m",
            "\u001b[0;31mNameError\u001b[0m                                 Traceback (most recent call last)",
            "\u001b[0;32m<ipython-input-1-5d697d87cd91>\u001b[0m in \u001b[0;36m<module>\u001b[0;34m()\u001b[0m\n\u001b[1;32m      1\u001b[0m \u001b[0;31m# print count\u001b[0m\u001b[0;34m\u001b[0m\u001b[0;34m\u001b[0m\u001b[0;34m\u001b[0m\u001b[0m\n\u001b[0;32m----> 2\u001b[0;31m \u001b[0mprint\u001b[0m\u001b[0;34m(\u001b[0m\u001b[0;34m'The count of i is:'\u001b[0m\u001b[0;34m,\u001b[0m \u001b[0mcount\u001b[0m\u001b[0;34m)\u001b[0m\u001b[0;34m\u001b[0m\u001b[0;34m\u001b[0m\u001b[0m\n\u001b[0m",
            "\u001b[0;31mNameError\u001b[0m: name 'count' is not defined"
          ]
        }
      ]
    },
    {
      "cell_type": "code",
      "metadata": {
        "colab": {
          "base_uri": "https://localhost:8080/"
        },
        "id": "-Z7T-2Fcq_AV",
        "outputId": "27d36460-3fcf-4306-cc5c-82d99ba3a704"
      },
      "source": [
        "sentence = 'A speech sound that is produced by comparatively open configuration of the vocal tract.'\n",
        "#1\n",
        "vowels = 'aeiouy'\n",
        "#2\n",
        "counts = {'cons':0,'vows':0}\n",
        "print(counts)\n",
        "#3\n",
        "for char in sentence:\n",
        "    #4\n",
        "    if not char.isalpha():\n",
        "        continue\n",
        "    #5\n",
        "    if char.lower() in vowels:\n",
        "        counts['vows'] += 1\n",
        "    else:\n",
        "        counts['cons'] += 1\n",
        "#6\n",
        "print('No. consonants: ' + str(counts['cons']) + ' | No. vowels: ' + str(counts['vows']))"
      ],
      "execution_count": 2,
      "outputs": [
        {
          "output_type": "stream",
          "text": [
            "{'cons': 0, 'vows': 0}\n",
            "No. consonants: 43 | No. vowels: 30\n"
          ],
          "name": "stdout"
        }
      ]
    },
    {
      "cell_type": "code",
      "metadata": {
        "colab": {
          "base_uri": "https://localhost:8080/"
        },
        "id": "nN-NI9bDrW5O",
        "outputId": "7435c949-ddc4-4e39-c94e-933b487dfd4f"
      },
      "source": [
        "text = {'slovo1': 'Tata', 'slovo2' : 'mama' , 'slovo3' : 'deda' }\n",
        "clanek = str(list(text.values()))\n",
        "print(len(clanek))\n",
        "print(clanek)"
      ],
      "execution_count": 19,
      "outputs": [
        {
          "output_type": "stream",
          "text": [
            "24\n",
            "['Tata', 'mama', 'deda']\n"
          ],
          "name": "stdout"
        }
      ]
    },
    {
      "cell_type": "code",
      "metadata": {
        "colab": {
          "base_uri": "https://localhost:8080/"
        },
        "id": "ySWar9k3vfUT",
        "outputId": "6eaec8ce-a24b-4e98-d376-088a191e1b1a"
      },
      "source": [
        "# Zadany string\n",
        "\n",
        "muj_string = \"Kdyby si Bruno nevšiml značky 'POZOR!', narazil by do zdi\"\n",
        "# Rozdel string do sekvence\n",
        "muj_list = muj_string.split()\n",
        "print(muj_list)\n",
        "# Ziskej paty prvek\n",
        "paty_prvek = muj_list[0]\n",
        "print(paty_prvek)\n",
        "# Ocisti paty prvek\n",
        "cisty_paty_prvek = paty_prvek.strip(\" '!, \")\n",
        "print(cisty_paty_prvek)\n",
        "# Over kapitalky promenne 'cisty_paty_prvek'\n",
        "if cisty_paty_prvek.isupper():\n",
        "    print('Díky bohu, značka byla napsaná kapitálkama')\n",
        "else:\n",
        "    print('Bruno značku viděl, i když nebyla napsaná kapitálkama')"
      ],
      "execution_count": 31,
      "outputs": [
        {
          "output_type": "stream",
          "text": [
            "['Kdyby', 'si', 'Bruno', 'nevšiml', 'značky', \"'POZOR!',\", 'narazil', 'by', 'do', 'zdi']\n",
            "5\n",
            "Kdyby\n",
            "Bruno značku viděl, i když nebyla napsaná kapitálkama\n"
          ],
          "name": "stdout"
        }
      ]
    },
    {
      "cell_type": "code",
      "metadata": {
        "colab": {
          "base_uri": "https://localhost:8080/"
        },
        "id": "E484zvfwqgAT",
        "outputId": "b39b56be-b192-4859-aef0-a958c4d8b2d5"
      },
      "source": [
        "text = \"Woodchuck, how much wood would a woodchuck chuck if a woodchuck could chuck wood ?\"\n",
        "\n",
        "sett = set()              # prázdný kolektor typu 'set'\n",
        "lstt = text.split()       # konverze stringu na list\n",
        "\n",
        "for i in lstt:\n",
        "    sett.add((i, lstt.count(i)))  # 'add' přijímá 1 arg.\n",
        "\n",
        "    print (len(i))\n",
        "     #print lstt(values)"
      ],
      "execution_count": 28,
      "outputs": [
        {
          "output_type": "stream",
          "text": [
            "10\n",
            "3\n",
            "4\n",
            "4\n",
            "5\n",
            "1\n",
            "9\n",
            "5\n",
            "2\n",
            "1\n",
            "9\n",
            "5\n",
            "5\n",
            "4\n",
            "1\n"
          ],
          "name": "stdout"
        }
      ]
    },
    {
      "cell_type": "code",
      "metadata": {
        "colab": {
          "base_uri": "https://localhost:8080/"
        },
        "id": "g6YnBXJ6sRwj",
        "outputId": "8b2cf13b-0428-433e-fdfa-7a84e5261506"
      },
      "source": [
        "Text1 = \"Woodchuck, how much wood would a woodchuck chuck if a woodchuck could chuck wood ?\"\n",
        "\n",
        "\n",
        "lstt = Text1.split()       # konverze stringu na list\n",
        "print (len(lstt))          # počet slov v textu"
      ],
      "execution_count": 19,
      "outputs": [
        {
          "output_type": "stream",
          "text": [
            "15\n"
          ],
          "name": "stdout"
        }
      ]
    },
    {
      "cell_type": "code",
      "metadata": {
        "colab": {
          "base_uri": "https://localhost:8080/"
        },
        "id": "tHo8bVwlwVj8",
        "outputId": "916aa754-9585-44b1-8582-a50c2ede1327"
      },
      "source": [
        "# definování proměnných (3 texty k vyhodnocení)\n",
        "Zdroj1 = 'Lupa.cz'\n",
        "Text1 = 'Situated about 10 miles west of Kemmerer,Fossil Butte is a ruggedly impressive topographic feature that rises sharply some 1000 feet above Twin Creek Valley to an elevation of more than 7500 feet above sea level. The butte is located just north of US 30N and the Union Pacific Railroad, which traverse the valley.'\n",
        "\n",
        "\n",
        "Zdroj2 = 'Novinky.cz'\n",
        "Text2 = 'At the base of Fossil Butte are the bright red, purple, yellow and gray beds of the Wasatch Formation. Eroded portions of these horizontal beds slope gradually upward from the valley floor and steepen abruptly. Overlying them and extending to the top of the butte are the much steeper buff-to-white beds of the Green River Formation, which are about 300 feet thick.'\n",
        "\n",
        "\n",
        "Zdroj3 = 'Idnes.cz'\n",
        "Text3 = 'The monument contains 8198 acres and protects a portion of the largest deposit of freshwater fish fossils in the world. The richest fossil fish deposits are found in multiple limestone layers, which lie some 100 feet below the top of the butte. The fossils represent several varieties of perch, as well as other freshwater genera and herring similar to those in modern oceans. Other fish such as paddlefish, garpike and stingray are also present.'\n",
        "\n",
        "\n",
        "# vytvoření databáze TEXTS a naplnění z proměnných Text 1-3\n",
        "TEXTS = dict()\n",
        "TEXTS.setdefault(\"Text1\", dict(((\"Zdroj1\",Zdroj1),(\"Text1\",Text1))))\n",
        "TEXTS.setdefault(\"Text2\", dict(((\"Zdroj2\",Zdroj2),(\"Text2\",Text2))))\n",
        "TEXTS.setdefault(\"Text3\", dict(((\"Zdroj3\",Zdroj2),(\"Text3\",Text2))))\n",
        "\n",
        "#vybíráme ze 3 textu\n",
        "text_number = input('Zadej pořadové číslo článku (v rozmezí 1 až ' + str(len(TEXTS)) + '): ' )\n",
        "print('-' *60)\n",
        "for hodnota in TEXTS.values():\n",
        "    print(hodnota)\n",
        "print('-' *60)\n",
        "for hodnota in TEXTS.keys():\n",
        "    print(hodnota)\n",
        "print('-' *60)\n",
        "for klic, hodnota in TEXTS.items():\n",
        "    print('{}: {}'.format(klic, hodnota))\n",
        "print('-' *60)\n",
        "#vytipovany_clanek = TEXTS[text_number-1]\n",
        "#print('We have made your reservation to ' + vytipovany_clanek)\n"
      ],
      "execution_count": 39,
      "outputs": [
        {
          "output_type": "stream",
          "text": [
            "Zadej pořadové číslo článku (v rozmezí 1 až 3): 1\n",
            "------------------------------------------------------------\n",
            "{'Zdroj1': 'Lupa.cz', 'Text1': 'Situated about 10 miles west of Kemmerer,Fossil Butte is a ruggedly impressive topographic feature that rises sharply some 1000 feet above Twin Creek Valley to an elevation of more than 7500 feet above sea level. The butte is located just north of US 30N and the Union Pacific Railroad, which traverse the valley.'}\n",
            "{'Zdroj2': 'Novinky.cz', 'Text2': 'At the base of Fossil Butte are the bright red, purple, yellow and gray beds of the Wasatch Formation. Eroded portions of these horizontal beds slope gradually upward from the valley floor and steepen abruptly. Overlying them and extending to the top of the butte are the much steeper buff-to-white beds of the Green River Formation, which are about 300 feet thick.'}\n",
            "{'Zdroj3': 'Novinky.cz', 'Text3': 'At the base of Fossil Butte are the bright red, purple, yellow and gray beds of the Wasatch Formation. Eroded portions of these horizontal beds slope gradually upward from the valley floor and steepen abruptly. Overlying them and extending to the top of the butte are the much steeper buff-to-white beds of the Green River Formation, which are about 300 feet thick.'}\n",
            "------------------------------------------------------------\n",
            "Text1\n",
            "Text2\n",
            "Text3\n",
            "------------------------------------------------------------\n",
            "Text1: {'Zdroj1': 'Lupa.cz', 'Text1': 'Situated about 10 miles west of Kemmerer,Fossil Butte is a ruggedly impressive topographic feature that rises sharply some 1000 feet above Twin Creek Valley to an elevation of more than 7500 feet above sea level. The butte is located just north of US 30N and the Union Pacific Railroad, which traverse the valley.'}\n",
            "Text2: {'Zdroj2': 'Novinky.cz', 'Text2': 'At the base of Fossil Butte are the bright red, purple, yellow and gray beds of the Wasatch Formation. Eroded portions of these horizontal beds slope gradually upward from the valley floor and steepen abruptly. Overlying them and extending to the top of the butte are the much steeper buff-to-white beds of the Green River Formation, which are about 300 feet thick.'}\n",
            "Text3: {'Zdroj3': 'Novinky.cz', 'Text3': 'At the base of Fossil Butte are the bright red, purple, yellow and gray beds of the Wasatch Formation. Eroded portions of these horizontal beds slope gradually upward from the valley floor and steepen abruptly. Overlying them and extending to the top of the butte are the much steeper buff-to-white beds of the Green River Formation, which are about 300 feet thick.'}\n",
            "------------------------------------------------------------\n"
          ],
          "name": "stdout"
        }
      ]
    },
    {
      "cell_type": "code",
      "metadata": {
        "colab": {
          "base_uri": "https://localhost:8080/"
        },
        "id": "_41u1jaH2778",
        "outputId": "5bc0ae44-4257-4779-9f84-d88888293264"
      },
      "source": [
        "text_number = int(input('Please enter the destination number to select: '))\n",
        "\n",
        "TEXTS = ['Prague', 'Wien','Brno','Svitavy','Zlin','Ostrava']\n",
        "PRICES = [1000, 1100, 2000, 1500, 2300, 3400]\n",
        "\n",
        "\n",
        "vytipovany_clanek = TEXTS[text_number-1]\n",
        "price = PRICES[text_number-1]\n",
        "\n",
        "\n",
        "print('We have made your reservation to ' + vytipovany_clanek)\n",
        "print('The total price is ' + str(price))"
      ],
      "execution_count": 36,
      "outputs": [
        {
          "output_type": "stream",
          "text": [
            "Please enter the destination number to select: 3\n",
            "We have made your reservation to Brno\n",
            "The total price is 2000\n"
          ],
          "name": "stdout"
        }
      ]
    }
  ]
}