{
  "nbformat": 4,
  "nbformat_minor": 0,
  "metadata": {
    "colab": {
      "name": "TESTY.ipynb",
      "provenance": [],
      "authorship_tag": "ABX9TyM0ozn8uMMgb+zUyq8khGz2",
      "include_colab_link": true
    },
    "kernelspec": {
      "name": "python3",
      "display_name": "Python 3"
    }
  },
  "cells": [
    {
      "cell_type": "markdown",
      "metadata": {
        "id": "view-in-github",
        "colab_type": "text"
      },
      "source": [
        "<a href=\"https://colab.research.google.com/github/MichalHovorka/Python_akademie_test/blob/main/TESTY.ipynb\" target=\"_parent\"><img src=\"https://colab.research.google.com/assets/colab-badge.svg\" alt=\"Open In Colab\"/></a>"
      ]
    },
    {
      "cell_type": "code",
      "metadata": {
        "colab": {
          "base_uri": "https://localhost:8080/",
          "height": 181
        },
        "id": "sjoV_s3Npo_T",
        "outputId": "a7c3c2aa-0350-4ad1-cf93-73fdf29e1ea5"
      },
      "source": [
        "# print count\n",
        "print('The count of i is:', count)\n"
      ],
      "execution_count": null,
      "outputs": [
        {
          "output_type": "error",
          "ename": "NameError",
          "evalue": "ignored",
          "traceback": [
            "\u001b[0;31m---------------------------------------------------------------------------\u001b[0m",
            "\u001b[0;31mNameError\u001b[0m                                 Traceback (most recent call last)",
            "\u001b[0;32m<ipython-input-1-5d697d87cd91>\u001b[0m in \u001b[0;36m<module>\u001b[0;34m()\u001b[0m\n\u001b[1;32m      1\u001b[0m \u001b[0;31m# print count\u001b[0m\u001b[0;34m\u001b[0m\u001b[0;34m\u001b[0m\u001b[0;34m\u001b[0m\u001b[0m\n\u001b[0;32m----> 2\u001b[0;31m \u001b[0mprint\u001b[0m\u001b[0;34m(\u001b[0m\u001b[0;34m'The count of i is:'\u001b[0m\u001b[0;34m,\u001b[0m \u001b[0mcount\u001b[0m\u001b[0;34m)\u001b[0m\u001b[0;34m\u001b[0m\u001b[0;34m\u001b[0m\u001b[0m\n\u001b[0m",
            "\u001b[0;31mNameError\u001b[0m: name 'count' is not defined"
          ]
        }
      ]
    },
    {
      "cell_type": "code",
      "metadata": {
        "colab": {
          "base_uri": "https://localhost:8080/"
        },
        "id": "-Z7T-2Fcq_AV",
        "outputId": "27d36460-3fcf-4306-cc5c-82d99ba3a704"
      },
      "source": [
        "sentence = 'A speech sound that is produced by comparatively open configuration of the vocal tract.'\n",
        "#1\n",
        "vowels = 'aeiouy'\n",
        "#2\n",
        "counts = {'cons':0,'vows':0}\n",
        "print(counts)\n",
        "#3\n",
        "for char in sentence:\n",
        "    #4\n",
        "    if not char.isalpha():\n",
        "        continue\n",
        "    #5\n",
        "    if char.lower() in vowels:\n",
        "        counts['vows'] += 1\n",
        "    else:\n",
        "        counts['cons'] += 1\n",
        "#6\n",
        "print('No. consonants: ' + str(counts['cons']) + ' | No. vowels: ' + str(counts['vows']))"
      ],
      "execution_count": null,
      "outputs": [
        {
          "output_type": "stream",
          "text": [
            "{'cons': 0, 'vows': 0}\n",
            "No. consonants: 43 | No. vowels: 30\n"
          ],
          "name": "stdout"
        }
      ]
    },
    {
      "cell_type": "code",
      "metadata": {
        "colab": {
          "base_uri": "https://localhost:8080/"
        },
        "id": "nN-NI9bDrW5O",
        "outputId": "7435c949-ddc4-4e39-c94e-933b487dfd4f"
      },
      "source": [
        "text = {'slovo1': 'Tata', 'slovo2' : 'mama' , 'slovo3' : 'deda' }\n",
        "clanek = str(list(text.values()))\n",
        "print(len(clanek))\n",
        "print(clanek)"
      ],
      "execution_count": null,
      "outputs": [
        {
          "output_type": "stream",
          "text": [
            "24\n",
            "['Tata', 'mama', 'deda']\n"
          ],
          "name": "stdout"
        }
      ]
    },
    {
      "cell_type": "code",
      "metadata": {
        "colab": {
          "base_uri": "https://localhost:8080/"
        },
        "id": "ySWar9k3vfUT",
        "outputId": "6eaec8ce-a24b-4e98-d376-088a191e1b1a"
      },
      "source": [
        "# Zadany string\n",
        "\n",
        "muj_string = \"Kdyby si Bruno nevšiml značky 'POZOR!', narazil by do zdi\"\n",
        "# Rozdel string do sekvence\n",
        "muj_list = muj_string.split()\n",
        "print(muj_list)\n",
        "# Ziskej paty prvek\n",
        "paty_prvek = muj_list[0]\n",
        "print(paty_prvek)\n",
        "# Ocisti paty prvek\n",
        "cisty_paty_prvek = paty_prvek.strip(\" '!, \")\n",
        "print(cisty_paty_prvek)\n",
        "# Over kapitalky promenne 'cisty_paty_prvek'\n",
        "if cisty_paty_prvek.isupper():\n",
        "    print('Díky bohu, značka byla napsaná kapitálkama')\n",
        "else:\n",
        "    print('Bruno značku viděl, i když nebyla napsaná kapitálkama')"
      ],
      "execution_count": null,
      "outputs": [
        {
          "output_type": "stream",
          "text": [
            "['Kdyby', 'si', 'Bruno', 'nevšiml', 'značky', \"'POZOR!',\", 'narazil', 'by', 'do', 'zdi']\n",
            "5\n",
            "Kdyby\n",
            "Bruno značku viděl, i když nebyla napsaná kapitálkama\n"
          ],
          "name": "stdout"
        }
      ]
    },
    {
      "cell_type": "code",
      "metadata": {
        "colab": {
          "base_uri": "https://localhost:8080/"
        },
        "id": "E484zvfwqgAT",
        "outputId": "b39b56be-b192-4859-aef0-a958c4d8b2d5"
      },
      "source": [
        "text = \"Woodchuck, how much wood would a woodchuck chuck if a woodchuck could chuck wood ?\"\n",
        "\n",
        "sett = set()              # prázdný kolektor typu 'set'\n",
        "lstt = text.split()       # konverze stringu na list\n",
        "\n",
        "for i in lstt:\n",
        "    sett.add((i, lstt.count(i)))  # 'add' přijímá 1 arg.\n",
        "\n",
        "    print (len(i))\n",
        "     #print lstt(values)"
      ],
      "execution_count": null,
      "outputs": [
        {
          "output_type": "stream",
          "text": [
            "10\n",
            "3\n",
            "4\n",
            "4\n",
            "5\n",
            "1\n",
            "9\n",
            "5\n",
            "2\n",
            "1\n",
            "9\n",
            "5\n",
            "5\n",
            "4\n",
            "1\n"
          ],
          "name": "stdout"
        }
      ]
    },
    {
      "cell_type": "code",
      "metadata": {
        "colab": {
          "base_uri": "https://localhost:8080/"
        },
        "id": "g6YnBXJ6sRwj",
        "outputId": "8b2cf13b-0428-433e-fdfa-7a84e5261506"
      },
      "source": [
        "Text1 = \"Woodchuck, how much wood would a woodchuck chuck if a woodchuck could chuck wood ?\"\n",
        "\n",
        "\n",
        "lstt = Text1.split()       # konverze stringu na list\n",
        "print (len(lstt))          # počet slov v textu"
      ],
      "execution_count": null,
      "outputs": [
        {
          "output_type": "stream",
          "text": [
            "15\n"
          ],
          "name": "stdout"
        }
      ]
    },
    {
      "cell_type": "code",
      "metadata": {
        "colab": {
          "base_uri": "https://localhost:8080/",
          "height": 312
        },
        "id": "tHo8bVwlwVj8",
        "outputId": "9540c3d6-64ff-4a6b-8518-59170ca15837"
      },
      "source": [
        "# definování proměnných (3 texty k vyhodnocení)\n",
        "Zdroj1 = 'Lupa.cz'\n",
        "Text1 = 'Situated about 10 miles west of Kemmerer,Fossil Butte is a ruggedly impressive topographic feature that rises sharply some 1000 feet above Twin Creek Valley to an elevation of more than 7500 feet above sea level. The butte is located just north of US 30N and the Union Pacific Railroad, which traverse the valley.'\n",
        "\n",
        "\n",
        "Zdroj2 = 'Novinky.cz'\n",
        "Text2 = 'At the base of Fossil Butte are the bright red, purple, yellow and gray beds of the Wasatch Formation. Eroded portions of these horizontal beds slope gradually upward from the valley floor and steepen abruptly. Overlying them and extending to the top of the butte are the much steeper buff-to-white beds of the Green River Formation, which are about 300 feet thick.'\n",
        "\n",
        "\n",
        "Zdroj3 = 'Idnes.cz'\n",
        "Text3 = 'The monument contains 8198 acres and protects a portion of the largest deposit of freshwater fish fossils in the world. The richest fossil fish deposits are found in multiple limestone layers, which lie some 100 feet below the top of the butte. The fossils represent several varieties of perch, as well as other freshwater genera and herring similar to those in modern oceans. Other fish such as paddlefish, garpike and stingray are also present.'\n",
        "\n",
        "\n",
        "# vytvoření databáze TEXTS a naplnění z proměnných Text 1-3\n",
        "TEXTS = dict()\n",
        "TEXTS.setdefault(\"Text1\", dict(((\"Zdroj1\",Zdroj1),(\"Text1\",Text1))))\n",
        "TEXTS.setdefault(\"Text2\", dict(((\"Zdroj2\",Zdroj2),(\"Text2\",Text2))))\n",
        "TEXTS.setdefault(\"Text3\", dict(((\"Zdroj3\",Zdroj2),(\"Text3\",Text2))))\n",
        "\n",
        "#vybíráme ze 3 textu\n",
        "text_number = input('Zadej pořadové číslo článku (v rozmezí 1 až ' + str(len(TEXTS)) + '): ' )\n",
        "print('-' *60)\n",
        "for hodnota in TEXTS.values():\n",
        "    print(hodnota)\n",
        "print('-' *60)\n",
        "for hodnota in TEXTS.keys():\n",
        "    print(hodnota)\n",
        "print('-' *60)\n",
        "for klic, hodnota in TEXTS.items():\n",
        "    print('{}: {}'.format(klic, hodnota))\n",
        "print('-' *60)\n",
        "#vytipovany_clanek = TEXTS[text_number-1]\n",
        "#print('We have made your reservation to ' + vytipovany_clanek)\n",
        "\n"
      ],
      "execution_count": null,
      "outputs": [
        {
          "output_type": "stream",
          "text": [
            "Zadej pořadové číslo článku (v rozmezí 1 až 3): 1\n",
            "------------------------------------------------------------\n",
            "{'Zdroj1': 'Lupa.cz', 'Text1': 'Situated about 10 miles west of Kemmerer,Fossil Butte is a ruggedly impressive topographic feature that rises sharply some 1000 feet above Twin Creek Valley to an elevation of more than 7500 feet above sea level. The butte is located just north of US 30N and the Union Pacific Railroad, which traverse the valley.'}\n",
            "{'Zdroj2': 'Novinky.cz', 'Text2': 'At the base of Fossil Butte are the bright red, purple, yellow and gray beds of the Wasatch Formation. Eroded portions of these horizontal beds slope gradually upward from the valley floor and steepen abruptly. Overlying them and extending to the top of the butte are the much steeper buff-to-white beds of the Green River Formation, which are about 300 feet thick.'}\n",
            "{'Zdroj3': 'Novinky.cz', 'Text3': 'At the base of Fossil Butte are the bright red, purple, yellow and gray beds of the Wasatch Formation. Eroded portions of these horizontal beds slope gradually upward from the valley floor and steepen abruptly. Overlying them and extending to the top of the butte are the much steeper buff-to-white beds of the Green River Formation, which are about 300 feet thick.'}\n",
            "------------------------------------------------------------\n",
            "Text1\n",
            "Text2\n",
            "Text3\n",
            "------------------------------------------------------------\n",
            "Text1: {'Zdroj1': 'Lupa.cz', 'Text1': 'Situated about 10 miles west of Kemmerer,Fossil Butte is a ruggedly impressive topographic feature that rises sharply some 1000 feet above Twin Creek Valley to an elevation of more than 7500 feet above sea level. The butte is located just north of US 30N and the Union Pacific Railroad, which traverse the valley.'}\n",
            "Text2: {'Zdroj2': 'Novinky.cz', 'Text2': 'At the base of Fossil Butte are the bright red, purple, yellow and gray beds of the Wasatch Formation. Eroded portions of these horizontal beds slope gradually upward from the valley floor and steepen abruptly. Overlying them and extending to the top of the butte are the much steeper buff-to-white beds of the Green River Formation, which are about 300 feet thick.'}\n",
            "Text3: {'Zdroj3': 'Novinky.cz', 'Text3': 'At the base of Fossil Butte are the bright red, purple, yellow and gray beds of the Wasatch Formation. Eroded portions of these horizontal beds slope gradually upward from the valley floor and steepen abruptly. Overlying them and extending to the top of the butte are the much steeper buff-to-white beds of the Green River Formation, which are about 300 feet thick.'}\n",
            "------------------------------------------------------------\n",
            "11\n"
          ],
          "name": "stdout"
        },
        {
          "output_type": "execute_result",
          "data": {
            "application/vnd.google.colaboratory.intrinsic+json": {
              "type": "string"
            },
            "text/plain": [
              "'1'"
            ]
          },
          "metadata": {
            "tags": []
          },
          "execution_count": 40
        }
      ]
    },
    {
      "cell_type": "code",
      "metadata": {
        "colab": {
          "base_uri": "https://localhost:8080/",
          "height": 249
        },
        "id": "_41u1jaH2778",
        "outputId": "a31c7030-08fc-4a87-c685-ad9b417b2394"
      },
      "source": [
        "text_number = int(input('Please enter the destination number to select: '))\n",
        "\n",
        "TEXTS = ['Prague', 'Wien','Brno','Svitavy','Zlin','Ostrava']\n",
        "PRICES = [1000, 1100, 2000, 1500, 2300, 3400]\n",
        "\n",
        "\n",
        "vytipovany_clanek = TEXTS[text_number-1]\n",
        "price = PRICES[text_number-1]\n",
        "\n",
        "\n",
        "print('We have made your reservation to ' + vytipovany_clanek)\n",
        "print('The total price is ' + str(price))\n"
      ],
      "execution_count": 69,
      "outputs": [
        {
          "output_type": "stream",
          "text": [
            "Please enter the destination number to select: 2\n"
          ],
          "name": "stdout"
        },
        {
          "output_type": "error",
          "ename": "AttributeError",
          "evalue": "ignored",
          "traceback": [
            "\u001b[0;31m---------------------------------------------------------------------------\u001b[0m",
            "\u001b[0;31mAttributeError\u001b[0m                            Traceback (most recent call last)",
            "\u001b[0;32m<ipython-input-69-eba4d1ceb673>\u001b[0m in \u001b[0;36m<module>\u001b[0;34m()\u001b[0m\n\u001b[1;32m      4\u001b[0m \u001b[0mPRICES\u001b[0m \u001b[0;34m=\u001b[0m \u001b[0;34m[\u001b[0m\u001b[0;36m1000\u001b[0m\u001b[0;34m,\u001b[0m \u001b[0;36m1100\u001b[0m\u001b[0;34m,\u001b[0m \u001b[0;36m2000\u001b[0m\u001b[0;34m,\u001b[0m \u001b[0;36m1500\u001b[0m\u001b[0;34m,\u001b[0m \u001b[0;36m2300\u001b[0m\u001b[0;34m,\u001b[0m \u001b[0;36m3400\u001b[0m\u001b[0;34m]\u001b[0m\u001b[0;34m\u001b[0m\u001b[0;34m\u001b[0m\u001b[0m\n\u001b[1;32m      5\u001b[0m \u001b[0;34m\u001b[0m\u001b[0m\n\u001b[0;32m----> 6\u001b[0;31m \u001b[0mvelká\u001b[0m \u001b[0;34m=\u001b[0m \u001b[0mTEXTS\u001b[0m\u001b[0;34m.\u001b[0m\u001b[0misupper\u001b[0m\u001b[0;34m(\u001b[0m\u001b[0;34m)\u001b[0m\u001b[0;34m\u001b[0m\u001b[0;34m\u001b[0m\u001b[0m\n\u001b[0m\u001b[1;32m      7\u001b[0m \u001b[0mvytipovany_clanek\u001b[0m \u001b[0;34m=\u001b[0m \u001b[0mTEXTS\u001b[0m\u001b[0;34m[\u001b[0m\u001b[0mtext_number\u001b[0m\u001b[0;34m-\u001b[0m\u001b[0;36m1\u001b[0m\u001b[0;34m]\u001b[0m\u001b[0;34m\u001b[0m\u001b[0;34m\u001b[0m\u001b[0m\n\u001b[1;32m      8\u001b[0m \u001b[0mprice\u001b[0m \u001b[0;34m=\u001b[0m \u001b[0mPRICES\u001b[0m\u001b[0;34m[\u001b[0m\u001b[0mtext_number\u001b[0m\u001b[0;34m-\u001b[0m\u001b[0;36m1\u001b[0m\u001b[0;34m]\u001b[0m\u001b[0;34m\u001b[0m\u001b[0;34m\u001b[0m\u001b[0m\n",
            "\u001b[0;31mAttributeError\u001b[0m: 'list' object has no attribute 'isupper'"
          ]
        }
      ]
    },
    {
      "cell_type": "code",
      "metadata": {
        "colab": {
          "base_uri": "https://localhost:8080/",
          "height": 130
        },
        "id": "ObDankipD9z_",
        "outputId": "e612cb04-6846-4090-d863-3af6043fa29d"
      },
      "source": [
        ""
      ],
      "execution_count": null,
      "outputs": [
        {
          "output_type": "error",
          "ename": "IndentationError",
          "evalue": "ignored",
          "traceback": [
            "\u001b[0;36m  File \u001b[0;32m\"<ipython-input-41-d4c8bcf6d422>\"\u001b[0;36m, line \u001b[0;32m3\u001b[0m\n\u001b[0;31m    while True:\u001b[0m\n\u001b[0m               ^\u001b[0m\n\u001b[0;31mIndentationError\u001b[0m\u001b[0;31m:\u001b[0m unindent does not match any outer indentation level\n"
          ]
        }
      ]
    },
    {
      "cell_type": "code",
      "metadata": {
        "id": "WCRabyT7EgVO"
      },
      "source": [
        "\n"
      ],
      "execution_count": null,
      "outputs": []
    },
    {
      "cell_type": "code",
      "metadata": {
        "id": "B24KAY84gDvx",
        "colab": {
          "base_uri": "https://localhost:8080/",
          "height": 300
        },
        "outputId": "be02dd60-8a59-4d9f-989f-f5053abc968d"
      },
      "source": [
        "# definování proměnných (3 texty k vyhodnocení)\n",
        "zdroj1 = 'BBC'\n",
        "text1 = 'Situated about 10 miles west of Kemmerer,Fossil Butte is a ruggedly impressive topographic feature that rises sharply some 1000 feet above Twin Creek Valley to an elevation of more than 7500 feet above sea level. The butte is located just north of US 30N and the Union Pacific Railroad, which traverse the valley.'\n",
        "zdroj2 = 'REUTER'\n",
        "text2 = 'At the base of Fossil Butte are the bright red, purple, yellow and gray beds of the Wasatch Formation. Eroded portions of these horizontal beds slope gradually upward from the valley floor and steepen abruptly. Overlying them and extending to the top of the butte are the much steeper buff-to-white beds of the Green River Formation, which are about 300 feet thick.'\n",
        "zdroj3 = 'AFP'\n",
        "text3 = 'The monument contains 8198 acres and protects a portion of the largest deposit of freshwater fish fossils in the world. The richest fossil fish deposits are found in multiple limestone layers, which lie some 100 feet below the top of the butte. The fossils represent several varieties of perch, as well as other freshwater genera and herring similar to those in modern oceans. Other fish such as paddlefish, garpike and stingray are also present.'\n",
        "# vytvoření databáze TEXTS a naplnění z proměnných Text 1-3\n",
        "TEXTS = {}\n",
        "TEXTS.setdefault(\"1\", dict(( (\"zdroj\",zdroj1),(\"text\",text1) )) )\n",
        "TEXTS.setdefault(\"2\", dict(( (\"zdroj\",zdroj2),(\"text\",text2) )) )\n",
        "TEXTS.setdefault(\"3\", dict(( (\"zdroj\",zdroj3),(\"text\",text3) )) )\n",
        "#print(TEXTS)\n",
        "vyber_text = input(\"Vyber text: \")\n",
        "\n",
        "\n",
        "try:\n",
        "    tmp = int(vyber_text)\n",
        "    print('Vybral jsi článek číslo: ' + vyber_text )\n",
        "except:\n",
        "    print('Nezadal jsi celé číslo')\n",
        "\n",
        "\n",
        "# Vyhodnocení pořadí text (1-3) \n",
        "if vyber_text in TEXTS.keys():\n",
        "#if int(vyber_text) in TEXTS.keys():\n",
        "    print('Analyzuji text...')\n",
        "else:\n",
        "    print('K dispozici jsou pouze ' + str(len(TEXTS)) + ' články')\n",
        "\n",
        "#vybrany_text = TEXTS.get(vyber_text,\"Takovy klic tu neni\")\n",
        "#if vybrany_text != \"Takovy klic tu neni\":\n",
        "vybrany_text = TEXTS.get(vyber_text)\n",
        "if vyber_text in TEXTS.keys():\n",
        "  pocet_slov = {}\n",
        "  for ciste_slovo in [slovo.strip(\",.?!\")  for slovo in vybrany_text[\"text\"].split(\" \")]:\n",
        "    pocet_slov[ciste_slovo] = pocet_slov.get(ciste_slovo,0) + 1\n",
        "else: \n",
        "    print('spatně zadany text')\n",
        "\n",
        "print('Ve vybraném článku od agentury'+ ' ' + str(vybrany_text[\"zdroj\"]) + ' ' + 'je ' + str(len(pocet_slov)) + ' slov.' )\n",
        "\n",
        "#if vybiram zdroj clanku\n",
        "vybrany_text = TEXTS.get(vyber_text)\n",
        "print(vybrany_text[\"zdroj\"])\n",
        "\n",
        " \n"
      ],
      "execution_count": 9,
      "outputs": [
        {
          "output_type": "stream",
          "text": [
            "Vyber text: text2\n",
            "Nezadal jsi celé číslo\n",
            "K dispozici jsou pouze 3 články\n",
            "spatně zadany text\n"
          ],
          "name": "stdout"
        },
        {
          "output_type": "error",
          "ename": "TypeError",
          "evalue": "ignored",
          "traceback": [
            "\u001b[0;31m---------------------------------------------------------------------------\u001b[0m",
            "\u001b[0;31mTypeError\u001b[0m                                 Traceback (most recent call last)",
            "\u001b[0;32m<ipython-input-9-dfccfcc3dbcf>\u001b[0m in \u001b[0;36m<module>\u001b[0;34m()\u001b[0m\n\u001b[1;32m     39\u001b[0m     \u001b[0mprint\u001b[0m\u001b[0;34m(\u001b[0m\u001b[0;34m'spatně zadany text'\u001b[0m\u001b[0;34m)\u001b[0m\u001b[0;34m\u001b[0m\u001b[0;34m\u001b[0m\u001b[0m\n\u001b[1;32m     40\u001b[0m \u001b[0;34m\u001b[0m\u001b[0m\n\u001b[0;32m---> 41\u001b[0;31m \u001b[0mprint\u001b[0m\u001b[0;34m(\u001b[0m\u001b[0;34m'Ve vybraném článku od agentury'\u001b[0m\u001b[0;34m+\u001b[0m \u001b[0;34m' '\u001b[0m \u001b[0;34m+\u001b[0m \u001b[0mstr\u001b[0m\u001b[0;34m(\u001b[0m\u001b[0mvybrany_text\u001b[0m\u001b[0;34m[\u001b[0m\u001b[0;34m\"zdroj\"\u001b[0m\u001b[0;34m]\u001b[0m\u001b[0;34m)\u001b[0m \u001b[0;34m+\u001b[0m \u001b[0;34m' '\u001b[0m \u001b[0;34m+\u001b[0m \u001b[0;34m'je '\u001b[0m \u001b[0;34m+\u001b[0m \u001b[0mstr\u001b[0m\u001b[0;34m(\u001b[0m\u001b[0mlen\u001b[0m\u001b[0;34m(\u001b[0m\u001b[0mpocet_slov\u001b[0m\u001b[0;34m)\u001b[0m\u001b[0;34m)\u001b[0m \u001b[0;34m+\u001b[0m \u001b[0;34m' slov.'\u001b[0m \u001b[0;34m)\u001b[0m\u001b[0;34m\u001b[0m\u001b[0;34m\u001b[0m\u001b[0m\n\u001b[0m\u001b[1;32m     42\u001b[0m \u001b[0;34m\u001b[0m\u001b[0m\n\u001b[1;32m     43\u001b[0m \u001b[0;31m#if vybiram zdroj clanku\u001b[0m\u001b[0;34m\u001b[0m\u001b[0;34m\u001b[0m\u001b[0;34m\u001b[0m\u001b[0m\n",
            "\u001b[0;31mTypeError\u001b[0m: 'NoneType' object is not subscriptable"
          ]
        }
      ]
    },
    {
      "cell_type": "code",
      "metadata": {
        "colab": {
          "base_uri": "https://localhost:8080/"
        },
        "id": "PGaDB6OOGvdB",
        "outputId": "d0c23707-0002-4f02-a72c-b634a6e2d1d4"
      },
      "source": [
        "#Textový analýzátor - Projekt 5\n",
        "\n",
        "# Registrovaní uživatelé\n",
        "#| USER      |   PASSWORD  |\n",
        "#-----------------------\n",
        "#| bob       |     123     |\n",
        "#| ann       |    pass123  |\n",
        "#| mike      | password123 |\n",
        "#| liz       |    pass123  |\n",
        "#| Miky      |    123      |\n",
        "\n",
        "data = {\n",
        "\t'bob': '123',\n",
        "\t'ann': 'pass123',\n",
        "\t'mike': 'password123',\n",
        "  'liz' : 'pass123',\n",
        "  'Miky' : '123'\n",
        "\t\t\t}\n",
        "\n",
        "# Zeptej se na uzivatelske jmeno a heslo\n",
        "jmeno = input('Zadej své jméno: ' )\n",
        "heslo = input('Zadej heslo: ')\n",
        "\n",
        "print('-' *100)\n",
        "\n",
        "# definování proměnných (3 texty k vyhodnocení)\n",
        "zdroj1 = 'BBC'\n",
        "text1 = 'Situated about 10 miles west of Kemmerer,Fossil Butte is a ruggedly impressive topographic feature that rises sharply some 1000 feet above Twin Creek Valley to an elevation of more than 7500 feet above sea level. The butte is located just north of US 30N and the Union Pacific Railroad, which traverse the valley.'\n",
        "zdroj2 = 'REUTER'\n",
        "text2 = 'At the base of Fossil Butte are the bright red, purple, yellow and gray beds of the Wasatch Formation. Eroded portions of these horizontal beds slope gradually upward from the valley floor and steepen abruptly. Overlying them and extending to the top of the butte are the much steeper buff-to-white beds of the Green River Formation, which are about 300 feet thick.'\n",
        "zdroj3 = 'AFP'\n",
        "text3 = 'The monument contains 8198 acres and protects a portion of the largest deposit of freshwater fish fossils in the world. The richest fossil fish deposits are found in multiple limestone layers, which lie some 100 feet below the top of the butte. The fossils represent several varieties of perch, as well as other freshwater genera and herring similar to those in modern oceans. Other fish such as paddlefish, garpike and stingray are also present.'\n",
        "\n",
        "\n",
        "# vytvoření databáze TEXTS a naplnění z proměnných Text 1-3\n",
        "TEXTS = {}\n",
        "TEXTS[\"text1\"] = dict(((\"zdroj\",zdroj1),(\"text\",text1)))\n",
        "TEXTS[\"text2\"] = dict(((\"zdroj\",zdroj2),(\"text\",text2)))\n",
        "TEXTS[\"text3\"] = dict(((\"zdroj\",zdroj3),(\"text\",text3)))\n",
        "#print(TEXTS)\n",
        "\n",
        "# Vyhodnocení jména a hesla\n",
        "if data.get(jmeno) == heslo :\n",
        "\tprint(\n",
        "'Vítej v aplikaci \"TexAN\", '  + jmeno + '!' + \n",
        "' K analýze textu je aktuálně k dispozici tento počet článků: ' + str(len(TEXTS))\n",
        "  )\n",
        "else:\n",
        "    print('Heslo, nebo uživatelské jméno je špatně!')\n",
        "    exit()\n",
        "\n",
        "print('-' *100)\n",
        "\n",
        "vyber_text = input('Zadej pořadové číslo článku (v rozmezí 1 až ' + str(len(TEXTS)) + '): ' )\n",
        "\n",
        "print('-' *100)\n",
        "\n",
        "#možnosti jak porovnat že zadaná hodnota je typu INT:\n",
        "# - Mohu změnit type pro input (int('input('Enter... '))),'\n",
        "# - nebo použít import numbers, nebo try-expect block,\n",
        "# - použil jsem try-expect block:\n",
        "try:\n",
        "    tmp = int(vyber_text)\n",
        "    print('Vybral jsi článek číslo: ' + vyber_text )\n",
        "except:\n",
        "    print('Nezadal jsi celé číslo')\n",
        "\n",
        "# Vyhodnocení pořadí text (1-3) \n",
        "if vyber_text in TEXTS.keys():\n",
        "    print('Analyzuji text...')\n",
        "else:\n",
        "    print('K dispozici jsou pouze ' + str(len(TEXTS)) + ' články')\n",
        "\n",
        "print('-' *100)\n",
        "\n",
        "# počítám slova ve vybranem textu\n",
        "if vyber_text in TEXTS: #upravena podminka. Ptam se zda je klic ve slovniku.\n",
        "  pocet_slov = {}\n",
        "  text = TEXTS[vyber_text][\"text\"].split(\" \") #Takto se dostanu k jednotlivym slovum\n",
        "  for slovo in text:\n",
        "    ciste_slovo = slovo.strip(\",.?!\")\n",
        "    pocet_slov[ciste_slovo] = pocet_slov.get(ciste_slovo,0) + 1\n",
        "else:\n",
        "    print(\"Tento klic neni ve slovniku\")\n",
        "    exit() #vyskoci z programu\n",
        "\n",
        "#vybírám zdroj článku do textu odpovědí s počtem slov\n",
        "vybrany_text = TEXTS.get(vyber_text)\n",
        "zdroj_clanku = (vybrany_text[\"zdroj\"])\n",
        "\n",
        "# odpověď na první úkol (počet slov v článku)\n",
        "print('Počet slov ve vybraném článku od agentury'+ ' ' + str(zdroj_clanku) + ' ' + 'je ' + str(len(pocet_slov)) )\n",
        "\n",
        "# počítám slova s velkym a malym pocatecnim pismenem ve vybranem textu\n",
        "if vyber_text in TEXTS: #upravena podminka. Ptam se zda je klic ve slovniku.\n",
        "  word_supp = {}\n",
        "  t_sup = TEXTS[vyber_text][\"text\"].split(\" \") #Takto se dostanu k jednotlivym slovum\n",
        "  for slovo in t_sup:\n",
        "    ciste_slovo_s = slovo.strip(\",.?!\")\n",
        "    word_supp[ciste_slovo_s] = word_supp.get(ciste_slovo_s,0) + 1\n",
        "\n",
        "word_supp_k = word_supp.keys()\n",
        "s = list(word_supp_k)\n",
        "\n",
        "withcap = []\n",
        "without = []\n",
        "for word in s:\n",
        "    if word.islower():\n",
        "         without.append(word)\n",
        "    else:\n",
        "         withcap.append(word)\n",
        "\n",
        "print('Počet slov začínajících velkým písmenem ve vybraném článku od agentury'+ ' ' + str(zdroj_clanku) + ' ' + 'je ' + str(len(withcap)) ) \n",
        "print('Počet slov začínajících malým písmenem ve vybraném článku od agentury'+ ' ' + str(zdroj_clanku) + ' ' + 'je ' + str(len(without)) )\n",
        "\n",
        "#soucet cisel\n",
        "pomocna_cislo = 0\n",
        "for pomocna in t_sup:\n",
        "    if pomocna.isdigit():\n",
        "        pomocna_cislo += int(pomocna)        \n",
        "\n",
        "print('Suma všech čísel (ne cifer) ve vybraném článku je '+ str(pomocna_cislo))\n",
        "\n",
        "\n",
        "\n",
        "\n",
        "print('-' *100)\n",
        "\n",
        "####################################################################\n",
        "#Pro vybraný text počítám následující statistiky:\n",
        "#- počet slov,\n",
        "#- počet slov začínajících velkým písmenem,\n",
        "#- počet slov začínajících malym písmenem,\n",
        "#- počet slov psaných velkými písmeny,\n",
        "#- počet slov psaných malými písmeny,\n",
        "#- počet čísel (ne cifer),\n",
        "#- sumu všech čísel (ne cifer) v textu."
      ],
      "execution_count": 44,
      "outputs": [
        {
          "output_type": "stream",
          "text": [
            "Zadej své jméno: bob\n",
            "Zadej heslo: 123\n",
            "----------------------------------------------------------------------------------------------------\n",
            "Vítej v aplikaci \"TexAN\", bob! K analýze textu je aktuálně k dispozici tento počet článků: 3\n",
            "----------------------------------------------------------------------------------------------------\n",
            "Zadej pořadové číslo článku (v rozmezí 1 až 3): text3\n",
            "----------------------------------------------------------------------------------------------------\n",
            "Nezadal jsi celé číslo\n",
            "Analyzuji text...\n",
            "----------------------------------------------------------------------------------------------------\n",
            "Počet slov ve vybraném článku od agentury AFP je 55\n",
            "Počet slov začínajících velkým písmenem ve vybraném článku od agentury AFP je 4\n",
            "Počet slov začínajících malým písmenem ve vybraném článku od agentury AFP je 51\n",
            "Suma všech čísel (ne cifer) ve vybraném článku je 8298\n",
            "----------------------------------------------------------------------------------------------------\n"
          ],
          "name": "stdout"
        }
      ]
    },
    {
      "cell_type": "code",
      "metadata": {
        "colab": {
          "base_uri": "https://localhost:8080/"
        },
        "id": "Uv_HJNkw6hq2",
        "outputId": "bd41ad34-2fcd-462c-8bef-be9577a20405"
      },
      "source": [
        "# definování proměnných (3 texty k vyhodnocení)\n",
        "zdroj1 = 'BBC'\n",
        "text1 = 'Situated about 10 miles west of Kemmerer,Fossil Butte is a ruggedly impressive topographic feature that rises sharply some 1000 feet above Twin Creek Valley to an elevation of more than 7500 feet above sea level. The butte is located just north of US 30N and the Union Pacific Railroad, which traverse the valley.'\n",
        "zdroj2 = 'REUTER'\n",
        "text2 = 'At the base of Fossil Butte are the bright red, purple, yellow and gray beds of the Wasatch Formation. Eroded portions of these horizontal beds slope gradually upward from the valley floor and steepen abruptly. Overlying them and extending to the top of the butte are the much steeper buff-to-white beds of the Green River Formation, which are about 300 feet thick.'\n",
        "zdroj3 = 'AFP'\n",
        "text3 = 'The monument contains 8198 acres and protects a portion of the largest deposit of freshwater fish fossils in the world. The richest fossil fish deposits are found in multiple limestone layers, which lie some 100 feet below the top of the butte. The fossils represent several varieties of perch, as well as other freshwater genera and herring similar to those in modern oceans. Other fish such as paddlefish, garpike and stingray are also present.'\n",
        "\n",
        "\n",
        "# vytvoření databáze TEXTS a naplnění z proměnných Text 1-3\n",
        "TEXTS = {}\n",
        "TEXTS[\"text1\"] = dict(((\"zdroj\",zdroj1),(\"text\",text1)))\n",
        "TEXTS[\"text2\"] = dict(((\"zdroj\",zdroj2),(\"text\",text2)))\n",
        "TEXTS[\"text3\"] = dict(((\"zdroj\",zdroj3),(\"text\",text3)))\n",
        "#print(TEXTS)\n",
        "\n",
        "vyber_text = input('Zadej pořadové číslo článku (v rozmezí 1 až ' + str(len(TEXTS)) + '): ' )\n",
        "\n",
        "if vyber_text in TEXTS: #upravena podminka. Ptam se zda je klic ve slovniku.\n",
        "  word_supp = {}\n",
        "  t_sup = TEXTS[vyber_text][\"text\"].split(\" \") #Takto se dostanu k jednotlivym slovum\n",
        "  for slovo in t_sup:\n",
        "    ciste_slovo_s = slovo.strip(\",.?!\")\n",
        "    word_supp[ciste_slovo_s] = word_supp.get(ciste_slovo_s,0) + 1\n",
        "\n",
        "word_supp_k = word_supp.keys()\n",
        "s = list(word_supp_k)\n",
        "print(s)\n",
        "\n",
        "\n",
        "#soucet cisel\n",
        "\n",
        "pomocna_cislo = 0\n",
        "for pomocna in t_sup:\n",
        "    if pomocna.isdigit():\n",
        "        pomocna_cislo += int(pomocna)\n",
        "        \n",
        "print(pomocna_cislo)\n",
        "\n",
        "#ve smycce for ktera prochazi text je vnoreny if s metodou x.isdigit(): \n",
        "#- tahle metoda rovnou vyplivava True jen kdyz jsou vsechny znaky cislice... \n",
        "#no a kdyz je teda tenhle if True je akce: pomocny_x += int(x)(=musis jeste zintegerovat string) \n",
        "#no a pomocny_x je teda soucet vsech cisel\n"
      ],
      "execution_count": 45,
      "outputs": [
        {
          "output_type": "stream",
          "text": [
            "Zadej pořadové číslo článku (v rozmezí 1 až 3): text1\n",
            "['Situated', 'about', '10', 'miles', 'west', 'of', 'Kemmerer,Fossil', 'Butte', 'is', 'a', 'ruggedly', 'impressive', 'topographic', 'feature', 'that', 'rises', 'sharply', 'some', '1000', 'feet', 'above', 'Twin', 'Creek', 'Valley', 'to', 'an', 'elevation', 'more', 'than', '7500', 'sea', 'level', 'The', 'butte', 'located', 'just', 'north', 'US', '30N', 'and', 'the', 'Union', 'Pacific', 'Railroad', 'which', 'traverse', 'valley']\n",
            "8510\n"
          ],
          "name": "stdout"
        }
      ]
    },
    {
      "cell_type": "code",
      "metadata": {
        "colab": {
          "base_uri": "https://localhost:8080/"
        },
        "id": "t6SKzTkDXI4S",
        "outputId": "481c5687-44b1-4af4-d416-bcaf48309ebd"
      },
      "source": [
        "#vypis cisel počtu znaků čísel \n",
        "vycistena_slova = ['Green', '100', '200', 'about', '400', 'feet', 'thick']\n",
        "\n",
        "pomocna_cislo = 0\n",
        "for pomocna in vycistena_slova:\n",
        "    if pomocna.isdigit():\n",
        "        pomocna_cislo += int(pomocna)\n",
        "        print(len(pomocna))"
      ],
      "execution_count": 58,
      "outputs": [
        {
          "output_type": "stream",
          "text": [
            "3\n",
            "3\n",
            "3\n"
          ],
          "name": "stdout"
        }
      ]
    },
    {
      "cell_type": "code",
      "metadata": {
        "colab": {
          "base_uri": "https://localhost:8080/"
        },
        "id": "RaYY67zICwo4",
        "outputId": "15ddc6ea-beba-46c9-ff14-bfd031748e59"
      },
      "source": [
        "#vypis cisel test\n",
        "vycistena_slova = ['Green', '300' , '100' , '400' , '200' , 'about' , '400' , 'feet', 'thick', '500' ]\n",
        "\n",
        "pomocna_cislo = 0\n",
        "for pomocna in vycistena_slova:\n",
        "    if pomocna.isdigit():\n",
        "        pomocna_cislo += int(pomocna)\n",
        "        pocet = {}\n",
        "        pocet.setdefault(pomocna)\n",
        "        pocet_k = pocet.keys()\n",
        "        pocet_s = set(pocet)\n",
        "        print(pocet)\n",
        "        print(pocet_s)\n",
        "\n",
        "TEXTS[\"text1\"] = dict(((\"zdroj\",zdroj1),(\"text\",text1)))"
      ],
      "execution_count": 38,
      "outputs": [
        {
          "output_type": "stream",
          "text": [
            "{'300': None}\n",
            "{'300'}\n",
            "{'100': None}\n",
            "{'100'}\n",
            "{'400': None}\n",
            "{'400'}\n",
            "{'200': None}\n",
            "{'200'}\n",
            "{'400': None}\n",
            "{'400'}\n",
            "{'500': None}\n",
            "{'500'}\n"
          ],
          "name": "stdout"
        }
      ]
    },
    {
      "cell_type": "code",
      "metadata": {
        "colab": {
          "base_uri": "https://localhost:8080/"
        },
        "id": "YlpejJPpCdKZ",
        "outputId": "6d57795a-c36d-459c-ce5a-757f6ad56a22"
      },
      "source": [
        "#vypis čísel \n",
        "text1 = ['Green', '100', '200', 'about', '400', 'feet', 'thick']\n",
        "\n",
        "pomocna_cislo = 0\n",
        "for pomocna in text1:\n",
        "    if pomocna.isdigit():\n",
        "        pomocna_cislo += int(pomocna)\n",
        "        print(pomocna)"
      ],
      "execution_count": 39,
      "outputs": [
        {
          "output_type": "stream",
          "text": [
            "100\n",
            "200\n",
            "400\n"
          ],
          "name": "stdout"
        }
      ]
    },
    {
      "cell_type": "code",
      "metadata": {
        "colab": {
          "base_uri": "https://localhost:8080/"
        },
        "id": "6_DsWJAz_1Qo",
        "outputId": "06512667-0efc-4d91-e30a-92dc91410765"
      },
      "source": [
        "#soucet cisel\n",
        "text1 = ['Green', '100', '200', 'about', '400', 'feet', 'thick']\n",
        "\n",
        "pomocna_cislo = 0\n",
        "for pomocna in text1:\n",
        "    if pomocna.isdigit():\n",
        "        pomocna_cislo += int(pomocna)\n",
        "print(pomocna_cislo)"
      ],
      "execution_count": 40,
      "outputs": [
        {
          "output_type": "stream",
          "text": [
            "700\n"
          ],
          "name": "stdout"
        }
      ]
    },
    {
      "cell_type": "code",
      "metadata": {
        "colab": {
          "base_uri": "https://localhost:8080/"
        },
        "id": "Pi8sX8O5SX68",
        "outputId": "421e379a-2b97-4d79-b5cf-6688e04d4ed4"
      },
      "source": [
        "#soucet cisel\n",
        "#počet cisel\n",
        "# Declaring list \n",
        "text = ['Green', '100', '200', 'about', '400', 'feet', 'thick']\n",
        "def pocet_cisel(cislo_v_textu): \n",
        "  \n",
        "    # returning sum of list using List comprehension \n",
        "    return  len([int(i) for i in cislo_v_textu if type(i)== int or i.isdigit()]) \n",
        "    #return  sum([int(i) for i in cislo_v_textu if type(i)== int or i.isdigit()]) \n",
        "  \n",
        "\n",
        "  \n",
        "# Result of sum of list \n",
        "print (pocet_cisel(text)) \n"
      ],
      "execution_count": 69,
      "outputs": [
        {
          "output_type": "stream",
          "text": [
            "3\n"
          ],
          "name": "stdout"
        }
      ]
    },
    {
      "cell_type": "code",
      "metadata": {
        "id": "6ZpiL0HeXfXo"
      },
      "source": [
        "ctyrky1 = []\n",
        "ctyrky2 = []\n",
        "for word in slova1:\n",
        "  if len(word) == 4:\n",
        "    ctyrky1.append(word)\n",
        "for word in slova2:\n",
        "  if len(word) == 4:\n",
        "    ctyrky2.append(word)\n",
        "slovnik1['pocet_slov_41'] = len(ctyrky1)\n",
        "slovnik2['pocet_slov_42'] = len(ctyrky2)\n",
        "print(texty)\n",
        "\n",
        "\n",
        "\n",
        "\n",
        "#Druhe reseni\n",
        "slovnik = dict(text1=dict(), text2=dict())\n",
        "for i in range(len(slovnik)):\n",
        "  key =  \"text\"+str(i+1)\n",
        "  if key == \"text1\":\n",
        "    text_list = text1.split()\n",
        "  else:\n",
        "    text_list = text2.split()\n",
        "  pocet_slov = len(text_list)\n",
        "  pocet_slov_delka_4 = 0\n",
        "  slova_od_b = list()\n",
        "  for n in range(pocet_slov):\n",
        "    if len(text_list[n]) == 4:\n",
        "        pocet_slov_delka_4 += 1\n",
        "    if text_list[n][0] == \"b\":\n",
        "        slova_od_b.append(text_list[n])\n",
        "  slovnik[key][\"pocet_slov\"] = pocet_slov\n",
        "  slovnik[key][\"pocet_slov_delka_4\"] = pocet_slov_delka_4\n",
        "  slovnik[key][\"slova_od_b\"] = slova_od_b\n",
        "print(slovnik)"
      ],
      "execution_count": null,
      "outputs": []
    },
    {
      "cell_type": "code",
      "metadata": {
        "colab": {
          "base_uri": "https://localhost:8080/"
        },
        "id": "wFKY9z6S-p6Z",
        "outputId": "54a12cc9-ea05-4649-82e7-3e0b29154904"
      },
      "source": [
        "databaze = {'id123': {},'id124': {},'id125': {}}\n",
        "\n",
        "slovnik1 = {'jmeno': 'Thomas', 'vek': 45, 'zeme': 'Czechia', 'mesto': 'Brno'}\n",
        "slovnik2 = {'jmeno': 'Daniel', 'vek': 34, 'zeme': 'Czechia', 'mesto': 'Prague'}\n",
        "slovnik3 = {'jmeno': 'Eva', 'vek': 43, 'zeme': 'Czechia', 'mesto': 'Olomouc'}\n",
        "\n",
        "databaze.update(id123 = slovnik1)\n",
        "databaze.update(id124 = slovnik2)\n",
        "databaze.update(id125 = slovnik3)\n",
        "\n",
        "for hodnoty_slovniku in databaze['id123'].values():\n",
        "    print(hodnoty_slovniku)"
      ],
      "execution_count": 79,
      "outputs": [
        {
          "output_type": "stream",
          "text": [
            "Thomas\n",
            "45\n",
            "Czechia\n",
            "Brno\n"
          ],
          "name": "stdout"
        }
      ]
    },
    {
      "cell_type": "code",
      "metadata": {
        "colab": {
          "base_uri": "https://localhost:8080/"
        },
        "id": "lEewQxU-1fCl",
        "outputId": "16395541-6e05-4b60-b52d-76240b40876c"
      },
      "source": [
        "# Zadani tuplu\n",
        "data = (('Věk',43,True),('Jméno','John',True),('Příjmení','Smith',False))\n",
        "# For loop\n",
        "for key in data:\n",
        "    print(key)"
      ],
      "execution_count": 60,
      "outputs": [
        {
          "output_type": "stream",
          "text": [
            "('Věk', 43, True)\n",
            "('Jméno', 'John', True)\n",
            "('Příjmení', 'Smith', False)\n"
          ],
          "name": "stdout"
        }
      ]
    },
    {
      "cell_type": "code",
      "metadata": {
        "colab": {
          "base_uri": "https://localhost:8080/",
          "height": 130
        },
        "id": "QhP48EEZ5FH-",
        "outputId": "ecbe0413-44d4-4113-af9e-477dcb68b78d"
      },
      "source": [
        "from pprint import pprint as pp\n",
        "KOSIK = {}\n",
        "ODDELOVAC = \"=\" * 40\n",
        "POTRAVINY = {\n",
        "    \"mleko\": 30,\n",
        "    \"maso\": 100,\n",
        "    \"banan\": 30,\n",
        "    \"jogurt\": 10,\n",
        "    \"chleb\": 20,\n",
        "    \"jablko\": 10,\n",
        "    \"pomeranc\": 15,\n",
        "}\n",
        "nakup = True\n",
        "while (vyber_n := input(f\"VYBERTE ZBOZI (AKTUALNI POCET: {len(KOSIK)}): \").lower()) != \"q\":\n",
        "    KOSIK[vyber_n] = POTRAVINY.get(vyber_n, 0)\n",
        "else:\n",
        "    print(ODDELOVAC)\n",
        "    print(\"KOSIK JE PLNY! UKONCUJI\")\n",
        "    pp(KOSIK)\n",
        "    print(ODDELOVAC)\n",
        "    CELKEM = sum(KOSIK.values())\n",
        "    print(f\"CENA CELKEM: {CELKEM} CZK\")"
      ],
      "execution_count": 18,
      "outputs": [
        {
          "output_type": "error",
          "ename": "SyntaxError",
          "evalue": "ignored",
          "traceback": [
            "\u001b[0;36m  File \u001b[0;32m\"<ipython-input-18-60cae207c704>\"\u001b[0;36m, line \u001b[0;32m14\u001b[0m\n\u001b[0;31m    while (vyber_n := input(f\"VYBERTE ZBOZI (AKTUALNI POCET: {len(KOSIK)}): \").lower()) != \"q\":\u001b[0m\n\u001b[0m                   ^\u001b[0m\n\u001b[0;31mSyntaxError\u001b[0m\u001b[0;31m:\u001b[0m invalid syntax\n"
          ]
        }
      ]
    },
    {
      "cell_type": "code",
      "metadata": {
        "colab": {
          "base_uri": "https://localhost:8080/",
          "height": 130
        },
        "id": "vzkh3klwqqlH",
        "outputId": "ec68aedc-a35f-4e1a-9ff9-c533caac3c17"
      },
      "source": [
        "#definování proměnných (3 texty k vyhodnocení)\n",
        "Zdroj1 = 'BBC'\n",
        "text1 = 'Situated about 10 miles west of Kemmerer,Fossil Butte is a ruggedly impressive topographic feature that rises sharply some 1000 feet above Twin Creek Valley to an elevation of more than 7500 feet above sea level. The butte is located just north of US 30N and the Union Pacific Railroad, which traverse the valley.'\n",
        "Zdroj2 = 'REUTER'\n",
        "text2 = 'At the base of Fossil Butte are the bright red, purple, yellow and gray beds of the Wasatch Formation. Eroded portions of these horizontal beds slope gradually upward from the valley floor and steepen abruptly. Overlying them and extending to the top of the butte are the much steeper buff-to-white beds of the Green River Formation, which are about 300 feet thick.'\n",
        "Zdroj3 = 'AFP'\n",
        "text3 = 'The monument contains 8198 acres and protects a portion of the largest deposit of freshwater fish fossils in the world. The richest fossil fish deposits are found in multiple limestone layers, which lie some 100 feet below the top of the butte. The fossils represent several varieties of perch, as well as other freshwater genera and herring similar to those in modern oceans. Other fish such as paddlefish, garpike and stingray are also present.'\n",
        "\n",
        "#  pro vsechny texty vytvor slovnik, ve kterem bude slovnik:\n",
        "# 1) Poctu jednotlivych slov, \n",
        "# 2) List slov zacinajici na \"b\" \n",
        "# 3) Pocet slov s delkou 4.\n",
        "# 4) Moznos vyberu pismena a delky\n",
        "\n",
        "slovnik = {}\n",
        "delka_slov = 3\n",
        "slova_zacinajici_na_pismeno = \"b\"\n",
        "\n",
        "\n",
        "for i, text in enumerate((text1, text2, text3), 1):\n",
        "  ocistena_slova = [slovo.strip(\",.!?)(\").lower() for slovo in text.split(\" \")]\n",
        "  slovnik[f\"text{i}\"] = {\"pocet_slov\":  { slovo : ocistena_slova.count(slovo) for slovo in ocistena_slova},\n",
        "                         f\"pocet_slov_zacinajici_na_{slova_zacinajici_na_pismeno}\" : sum(1 for slovo in ocistena_slova if slovo.startswith(slova_zacinajici_na_pismeno)),  \n",
        "                         f\"list_slov_zacinajicich_na_{slova_zacinajici_na_pismeno}\" : [slovo for slovo in ocistena_slova if slovo.startswith(slova_zacinajici_na_pismeno)],\n",
        "                         f\"pocet_slov_s_delkou_{delka_slov}\" : sum(1 for slovo in ocistena_slova if len(slovo) == delka_slov),                      \n",
        "                         f\"slova_s_delkou_{delka_slov}\" : [slovo for slovo in ocistena_slova if len(slovo) == delka_slov]\n",
        "                        }\n",
        "print(text{i})\n"
      ],
      "execution_count": null,
      "outputs": [
        {
          "output_type": "error",
          "ename": "SyntaxError",
          "evalue": "ignored",
          "traceback": [
            "\u001b[0;36m  File \u001b[0;32m\"<ipython-input-30-5d87bb1facef>\"\u001b[0;36m, line \u001b[0;32m28\u001b[0m\n\u001b[0;31m    print(text{i})\u001b[0m\n\u001b[0m              ^\u001b[0m\n\u001b[0;31mSyntaxError\u001b[0m\u001b[0;31m:\u001b[0m invalid syntax\n"
          ]
        }
      ]
    }
  ]
}